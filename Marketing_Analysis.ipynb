{
 "cells": [
  {
   "cell_type": "code",
   "execution_count": null,
   "id": "cfbb2fa8",
   "metadata": {},
   "outputs": [],
   "source": [
    "# Importing necessary libraries for analysis\n",
    "import pandas as pd\n",
    "import matplotlib.pyplot as plt\n",
    "import seaborn as sns\n",
    "import datetime"
   ]
  }
 ],
 "metadata": {
  "kernelspec": {
   "display_name": "Python (Arewadatascience)",
   "language": "python",
   "name": "arewadatascience"
  },
  "language_info": {
   "name": "python",
   "version": "3.12.7"
  }
 },
 "nbformat": 4,
 "nbformat_minor": 5
}
